{
 "cells": [
  {
   "cell_type": "markdown",
   "metadata": {},
   "source": [
    "# Handle Missing Value\n",
    "Ada beberapa cara yaitu: \n",
    "- Menghapus Row\n",
    "- Mengisinya dengan mean, median, modus, Nilai Sebelum/Sesudahnya dll\n",
    "- Interpolasi\n",
    "\n",
    "Terkadang informasi mengenai keberadaan missing value itu penting untuk memahami pola data dan menghindari interpretasi yang salah. Mengisi missing value dapat menghilangkan informasi tersebut karena nilai yang sebenarnya telah digantikan dengan nilai yang diprediksi. Oleh karena itu, sebelum mengisi missing value, tambahkan kolom baru sebagai *flag* untuk mengindikasikan apakah data tersebut asli atau berasal dari missing value yang telah diisi. *Flag* ini membantu kita melacak data yang telah dimanipulasi dan memastikan interpretasi data yang akurat. [https://youtu.be/f9AQy7p0QEo]()\n",
    "\n",
    "Secara umum, menghapus baris dengan nilai yang hilang dapat menyebabkan hilangnya informasi berharga, terutama ketika persentase nilai yang hilang tinggi. Namun, dalam kasus di mana persentase data yang hilang kecil, menghapus baris mungkin tidak memiliki dampak signifikan pada analisis.\n",
    "\n",
    "Teknik imputasi, di sisi lain, digunakan untuk mengganti nilai yang hilang dengan perkiraan. Imputasi berguna dalam menyimpan informasi dari data yang hilang dan menjaga ukuran sampel. Mengisi dengan nol mungkin sesuai ketika nilai yang hilang diharapkan nol atau ketika nilai yang hilang tidak informatif untuk analisis. \n",
    "\n",
    "Imputasi rata-rata dapat digunakan ketika distribusi data normal, dan nilai yang hilang acak. Imputasi median sesuai ketika distribusi data miring. Imputasi mode digunakan ketika berhadapan dengan data kategoris, di mana mode mewakili kategori yang paling umum. [https://www.linkedin.com/pulse/when-how-handle-missing-inaccurate-values-dataset-machine-abdallah/]()"
   ]
  },
  {
   "cell_type": "code",
   "execution_count": 11,
   "metadata": {},
   "outputs": [],
   "source": [
    "import pandas as pd\n",
    "\n",
    "ufo = pd.read_csv(\"https://bit.ly/uforeports\")"
   ]
  },
  {
   "cell_type": "code",
   "execution_count": 12,
   "metadata": {},
   "outputs": [
    {
     "data": {
      "text/html": [
       "<div>\n",
       "<style scoped>\n",
       "    .dataframe tbody tr th:only-of-type {\n",
       "        vertical-align: middle;\n",
       "    }\n",
       "\n",
       "    .dataframe tbody tr th {\n",
       "        vertical-align: top;\n",
       "    }\n",
       "\n",
       "    .dataframe thead th {\n",
       "        text-align: right;\n",
       "    }\n",
       "</style>\n",
       "<table border=\"1\" class=\"dataframe\">\n",
       "  <thead>\n",
       "    <tr style=\"text-align: right;\">\n",
       "      <th></th>\n",
       "      <th>City</th>\n",
       "      <th>Colors Reported</th>\n",
       "      <th>Shape Reported</th>\n",
       "      <th>State</th>\n",
       "      <th>Time</th>\n",
       "    </tr>\n",
       "  </thead>\n",
       "  <tbody>\n",
       "    <tr>\n",
       "      <th>18236</th>\n",
       "      <td>Grant Park</td>\n",
       "      <td>NaN</td>\n",
       "      <td>TRIANGLE</td>\n",
       "      <td>IL</td>\n",
       "      <td>12/31/2000 23:00</td>\n",
       "    </tr>\n",
       "    <tr>\n",
       "      <th>18237</th>\n",
       "      <td>Spirit Lake</td>\n",
       "      <td>NaN</td>\n",
       "      <td>DISK</td>\n",
       "      <td>IA</td>\n",
       "      <td>12/31/2000 23:00</td>\n",
       "    </tr>\n",
       "    <tr>\n",
       "      <th>18238</th>\n",
       "      <td>Eagle River</td>\n",
       "      <td>NaN</td>\n",
       "      <td>NaN</td>\n",
       "      <td>WI</td>\n",
       "      <td>12/31/2000 23:45</td>\n",
       "    </tr>\n",
       "    <tr>\n",
       "      <th>18239</th>\n",
       "      <td>Eagle River</td>\n",
       "      <td>RED</td>\n",
       "      <td>LIGHT</td>\n",
       "      <td>WI</td>\n",
       "      <td>12/31/2000 23:45</td>\n",
       "    </tr>\n",
       "    <tr>\n",
       "      <th>18240</th>\n",
       "      <td>Ybor</td>\n",
       "      <td>NaN</td>\n",
       "      <td>OVAL</td>\n",
       "      <td>FL</td>\n",
       "      <td>12/31/2000 23:59</td>\n",
       "    </tr>\n",
       "  </tbody>\n",
       "</table>\n",
       "</div>"
      ],
      "text/plain": [
       "              City Colors Reported Shape Reported State              Time\n",
       "18236   Grant Park             NaN       TRIANGLE    IL  12/31/2000 23:00\n",
       "18237  Spirit Lake             NaN           DISK    IA  12/31/2000 23:00\n",
       "18238  Eagle River             NaN            NaN    WI  12/31/2000 23:45\n",
       "18239  Eagle River             RED          LIGHT    WI  12/31/2000 23:45\n",
       "18240         Ybor             NaN           OVAL    FL  12/31/2000 23:59"
      ]
     },
     "execution_count": 12,
     "metadata": {},
     "output_type": "execute_result"
    }
   ],
   "source": [
    "ufo.tail()"
   ]
  },
  {
   "cell_type": "markdown",
   "metadata": {},
   "source": [
    "## Metode 1: Menghapus Row"
   ]
  },
  {
   "cell_type": "code",
   "execution_count": 13,
   "metadata": {},
   "outputs": [
    {
     "data": {
      "text/plain": [
       "(2486, 5)"
      ]
     },
     "execution_count": 13,
     "metadata": {},
     "output_type": "execute_result"
    }
   ],
   "source": [
    "# Cara 1\n",
    "ufo[ufo.notnull().all(axis=1)].shape"
   ]
  },
  {
   "cell_type": "code",
   "execution_count": 14,
   "metadata": {},
   "outputs": [
    {
     "data": {
      "text/plain": [
       "(15575, 5)"
      ]
     },
     "execution_count": 14,
     "metadata": {},
     "output_type": "execute_result"
    }
   ],
   "source": [
    "# Cara 2\n",
    "ufo.dropna(how='any').shape\n",
    "\n",
    "# untuk mengahapus sesuai kolom tertentu\n",
    "ufo.dropna(subset=['City','Shape Reported'],how='any').shape "
   ]
  },
  {
   "cell_type": "markdown",
   "metadata": {},
   "source": [
    "## Metode 2: Mengisi missing value\n",
    "Dengan Modus (Nilai Terbanyak/Nilai yang sering muncul)\n"
   ]
  },
  {
   "cell_type": "code",
   "execution_count": 15,
   "metadata": {},
   "outputs": [],
   "source": [
    "# Inplace=True berarti mengubah data asli \n",
    "# mode() mengembalikan series, [0] :ambil index pertama\n",
    "ufo.fillna({\"Shape Reported\": ufo['Shape Reported'].mode()[0]},inplace=True) "
   ]
  },
  {
   "cell_type": "code",
   "execution_count": 16,
   "metadata": {},
   "outputs": [
    {
     "data": {
      "text/html": [
       "<div>\n",
       "<style scoped>\n",
       "    .dataframe tbody tr th:only-of-type {\n",
       "        vertical-align: middle;\n",
       "    }\n",
       "\n",
       "    .dataframe tbody tr th {\n",
       "        vertical-align: top;\n",
       "    }\n",
       "\n",
       "    .dataframe thead th {\n",
       "        text-align: right;\n",
       "    }\n",
       "</style>\n",
       "<table border=\"1\" class=\"dataframe\">\n",
       "  <thead>\n",
       "    <tr style=\"text-align: right;\">\n",
       "      <th></th>\n",
       "      <th>counts</th>\n",
       "      <th>%</th>\n",
       "    </tr>\n",
       "    <tr>\n",
       "      <th>Shape Reported</th>\n",
       "      <th></th>\n",
       "      <th></th>\n",
       "    </tr>\n",
       "  </thead>\n",
       "  <tbody>\n",
       "    <tr>\n",
       "      <th>LIGHT</th>\n",
       "      <td>5447</td>\n",
       "      <td>29.9%</td>\n",
       "    </tr>\n",
       "    <tr>\n",
       "      <th>DISK</th>\n",
       "      <td>2122</td>\n",
       "      <td>11.6%</td>\n",
       "    </tr>\n",
       "    <tr>\n",
       "      <th>TRIANGLE</th>\n",
       "      <td>1889</td>\n",
       "      <td>10.4%</td>\n",
       "    </tr>\n",
       "    <tr>\n",
       "      <th>OTHER</th>\n",
       "      <td>1402</td>\n",
       "      <td>7.7%</td>\n",
       "    </tr>\n",
       "    <tr>\n",
       "      <th>CIRCLE</th>\n",
       "      <td>1365</td>\n",
       "      <td>7.5%</td>\n",
       "    </tr>\n",
       "    <tr>\n",
       "      <th>SPHERE</th>\n",
       "      <td>1054</td>\n",
       "      <td>5.8%</td>\n",
       "    </tr>\n",
       "    <tr>\n",
       "      <th>FIREBALL</th>\n",
       "      <td>1039</td>\n",
       "      <td>5.7%</td>\n",
       "    </tr>\n",
       "    <tr>\n",
       "      <th>OVAL</th>\n",
       "      <td>845</td>\n",
       "      <td>4.6%</td>\n",
       "    </tr>\n",
       "    <tr>\n",
       "      <th>CIGAR</th>\n",
       "      <td>617</td>\n",
       "      <td>3.4%</td>\n",
       "    </tr>\n",
       "    <tr>\n",
       "      <th>FORMATION</th>\n",
       "      <td>434</td>\n",
       "      <td>2.4%</td>\n",
       "    </tr>\n",
       "    <tr>\n",
       "      <th>VARIOUS</th>\n",
       "      <td>333</td>\n",
       "      <td>1.8%</td>\n",
       "    </tr>\n",
       "    <tr>\n",
       "      <th>RECTANGLE</th>\n",
       "      <td>303</td>\n",
       "      <td>1.7%</td>\n",
       "    </tr>\n",
       "    <tr>\n",
       "      <th>CYLINDER</th>\n",
       "      <td>294</td>\n",
       "      <td>1.6%</td>\n",
       "    </tr>\n",
       "    <tr>\n",
       "      <th>CHEVRON</th>\n",
       "      <td>248</td>\n",
       "      <td>1.4%</td>\n",
       "    </tr>\n",
       "    <tr>\n",
       "      <th>DIAMOND</th>\n",
       "      <td>234</td>\n",
       "      <td>1.3%</td>\n",
       "    </tr>\n",
       "    <tr>\n",
       "      <th>EGG</th>\n",
       "      <td>197</td>\n",
       "      <td>1.1%</td>\n",
       "    </tr>\n",
       "    <tr>\n",
       "      <th>FLASH</th>\n",
       "      <td>188</td>\n",
       "      <td>1.0%</td>\n",
       "    </tr>\n",
       "    <tr>\n",
       "      <th>TEARDROP</th>\n",
       "      <td>119</td>\n",
       "      <td>0.7%</td>\n",
       "    </tr>\n",
       "    <tr>\n",
       "      <th>CONE</th>\n",
       "      <td>60</td>\n",
       "      <td>0.3%</td>\n",
       "    </tr>\n",
       "    <tr>\n",
       "      <th>CROSS</th>\n",
       "      <td>36</td>\n",
       "      <td>0.2%</td>\n",
       "    </tr>\n",
       "    <tr>\n",
       "      <th>DELTA</th>\n",
       "      <td>7</td>\n",
       "      <td>0.0%</td>\n",
       "    </tr>\n",
       "    <tr>\n",
       "      <th>ROUND</th>\n",
       "      <td>2</td>\n",
       "      <td>0.0%</td>\n",
       "    </tr>\n",
       "    <tr>\n",
       "      <th>CRESCENT</th>\n",
       "      <td>2</td>\n",
       "      <td>0.0%</td>\n",
       "    </tr>\n",
       "    <tr>\n",
       "      <th>DOME</th>\n",
       "      <td>1</td>\n",
       "      <td>0.0%</td>\n",
       "    </tr>\n",
       "    <tr>\n",
       "      <th>PYRAMID</th>\n",
       "      <td>1</td>\n",
       "      <td>0.0%</td>\n",
       "    </tr>\n",
       "    <tr>\n",
       "      <th>FLARE</th>\n",
       "      <td>1</td>\n",
       "      <td>0.0%</td>\n",
       "    </tr>\n",
       "    <tr>\n",
       "      <th>HEXAGON</th>\n",
       "      <td>1</td>\n",
       "      <td>0.0%</td>\n",
       "    </tr>\n",
       "  </tbody>\n",
       "</table>\n",
       "</div>"
      ],
      "text/plain": [
       "                counts      %\n",
       "Shape Reported               \n",
       "LIGHT             5447  29.9%\n",
       "DISK              2122  11.6%\n",
       "TRIANGLE          1889  10.4%\n",
       "OTHER             1402   7.7%\n",
       "CIRCLE            1365   7.5%\n",
       "SPHERE            1054   5.8%\n",
       "FIREBALL          1039   5.7%\n",
       "OVAL               845   4.6%\n",
       "CIGAR              617   3.4%\n",
       "FORMATION          434   2.4%\n",
       "VARIOUS            333   1.8%\n",
       "RECTANGLE          303   1.7%\n",
       "CYLINDER           294   1.6%\n",
       "CHEVRON            248   1.4%\n",
       "DIAMOND            234   1.3%\n",
       "EGG                197   1.1%\n",
       "FLASH              188   1.0%\n",
       "TEARDROP           119   0.7%\n",
       "CONE                60   0.3%\n",
       "CROSS               36   0.2%\n",
       "DELTA                7   0.0%\n",
       "ROUND                2   0.0%\n",
       "CRESCENT             2   0.0%\n",
       "DOME                 1   0.0%\n",
       "PYRAMID              1   0.0%\n",
       "FLARE                1   0.0%\n",
       "HEXAGON              1   0.0%"
      ]
     },
     "execution_count": 16,
     "metadata": {},
     "output_type": "execute_result"
    }
   ],
   "source": [
    "c = ufo[\"Shape Reported\"].value_counts(dropna=False)\n",
    "p = ufo[\"Shape Reported\"].value_counts(dropna=False, normalize=True) * 100\n",
    "pd.concat([c, p.round(1).astype(str) + \"%\"], axis=1, keys=[\"counts\", \"%\"])"
   ]
  },
  {
   "cell_type": "code",
   "execution_count": 17,
   "metadata": {},
   "outputs": [
    {
     "name": "stderr",
     "output_type": "stream",
     "text": [
      "C:\\Users\\M S I\\AppData\\Local\\Temp\\ipykernel_5100\\2917974376.py:1: FutureWarning: A value is trying to be set on a copy of a DataFrame or Series through chained assignment using an inplace method.\n",
      "The behavior will change in pandas 3.0. This inplace method will never work because the intermediate object on which we are setting values always behaves as a copy.\n",
      "\n",
      "For example, when doing 'df[col].method(value, inplace=True)', try using 'df.method({col: value}, inplace=True)' or df[col] = df[col].method(value) instead, to perform the operation inplace on the original object.\n",
      "\n",
      "\n",
      "  ufo[\"Colors Reported\"].fillna(method=\"bfill\",inplace=True)\n",
      "C:\\Users\\M S I\\AppData\\Local\\Temp\\ipykernel_5100\\2917974376.py:1: FutureWarning: Series.fillna with 'method' is deprecated and will raise in a future version. Use obj.ffill() or obj.bfill() instead.\n",
      "  ufo[\"Colors Reported\"].fillna(method=\"bfill\",inplace=True)\n"
     ]
    }
   ],
   "source": [
    "ufo[\"Colors Reported\"].fillna(method=\"bfill\",inplace=True)\n",
    "ufo[\"Colors Reported\"].fillna(value=\"RED\",inplace=True)"
   ]
  },
  {
   "cell_type": "code",
   "execution_count": 36,
   "metadata": {},
   "outputs": [],
   "source": [
    "df = pd.DataFrame({\n",
    "    \"A\":[3,4],\n",
    "    \"B\":[5.0,6.0],\n",
    "    \"C\":[\"c\",\"c\"],\n",
    "    \"D\":[True,False],\n",
    "    \"E\":pd.date_range(\"2021-12-25\",\"2021-12-26\")})"
   ]
  }
 ],
 "metadata": {
  "kernelspec": {
   "display_name": ".venv",
   "language": "python",
   "name": "python3"
  },
  "language_info": {
   "codemirror_mode": {
    "name": "ipython",
    "version": 3
   },
   "file_extension": ".py",
   "mimetype": "text/x-python",
   "name": "python",
   "nbconvert_exporter": "python",
   "pygments_lexer": "ipython3",
   "version": "3.12.2"
  }
 },
 "nbformat": 4,
 "nbformat_minor": 2
}
