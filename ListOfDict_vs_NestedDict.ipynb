{
  "cells": [
    {
      "cell_type": "code",
      "execution_count": 1,
      "metadata": {},
      "outputs": [],
      "source": [
        "import pandas as pd"
      ]
    },
    {
      "cell_type": "markdown",
      "metadata": {},
      "source": [
        "## Dict of Lists\n",
        "Column Oriented Data"
      ]
    },
    {
      "cell_type": "code",
      "execution_count": 2,
      "metadata": {},
      "outputs": [
        {
          "name": "stdout",
          "output_type": "stream",
          "text": [
            "   ids  names  ages  class_ids\n",
            "0    1   Andi    15        101\n",
            "1    2   Budi    16        102\n",
            "2    3  Cindy    15        101\n",
            "   class_ids  class_names            subjects\n",
            "0        101  Mathematics     [Math, Science]\n",
            "1        102      History  [History, English]\n"
          ]
        }
      ],
      "source": [
        "student_data = {\n",
        "    \"ids\": [1, 2, 3],\n",
        "    \"names\": [\"Andi\", \"Budi\", \"Cindy\"],\n",
        "    \"ages\": [15, 16, 15],\n",
        "    \"class_ids\": [101, 102, 101]\n",
        "}\n",
        "\n",
        "# Data Class menggunakan Dict of lists\n",
        "class_data = {\n",
        "    \"class_ids\": [101, 102],\n",
        "    \"class_names\": [\"Mathematics\", \"History\"],\n",
        "    \"subjects\": [\n",
        "        [\"Math\", \"Science\"],\n",
        "        [\"History\", \"English\"]\n",
        "    ]\n",
        "}\n",
        "\n",
        "student_df = pd.DataFrame(student_data)\n",
        "class_df = pd.DataFrame(class_data)\n",
        "\n",
        "print(student_df.head())\n",
        "print(class_df.head())"
      ]
    },
    {
      "cell_type": "markdown",
      "metadata": {},
      "source": [
        "```\n",
        "\n",
        "\n",
        "\n",
        "```\n",
        "## List of Dicts\n",
        "Row Oriented Data"
      ]
    },
    {
      "cell_type": "code",
      "execution_count": 3,
      "metadata": {},
      "outputs": [
        {
          "name": "stdout",
          "output_type": "stream",
          "text": [
            "   id   name  age  classId\n",
            "0   1   Andi   15      101\n",
            "1   2   Budi   16      102\n",
            "2   3  Cindy   15      101\n",
            "   classId    className            subjects\n",
            "0      101  Mathematics     [Math, Science]\n",
            "1      102      History  [History, English]\n"
          ]
        }
      ],
      "source": [
        "students_data = [\n",
        "    {\"id\": 1, \"name\": \"Andi\", \"age\": 15, \"classId\": 101},\n",
        "    {\"id\": 2, \"name\": \"Budi\", \"age\": 16, \"classId\": 102},\n",
        "    {\"id\": 3, \"name\": \"Cindy\", \"age\": 15, \"classId\": 101}\n",
        "]\n",
        "\n",
        "classes_data = [\n",
        "    {\"classId\": 101, \"className\": \"Mathematics\", \"subjects\": [\"Math\", \"Science\"]},\n",
        "    {\"classId\": 102, \"className\": \"History\", \"subjects\": [\"History\", \"English\"]}\n",
        "]\n",
        "\n",
        "students_df = pd.DataFrame(students_data)\n",
        "classes_df = pd.DataFrame(classes_data)\n",
        "\n",
        "print(students_df.head())\n",
        "print(classes_df.head())"
      ]
    },
    {
      "cell_type": "markdown",
      "metadata": {},
      "source": [
        "```\n",
        "\n",
        "\n",
        "```\n",
        "## Konversi Data"
      ]
    },
    {
      "cell_type": "code",
      "execution_count": 4,
      "metadata": {},
      "outputs": [
        {
          "data": {
            "text/plain": [
              "[{'ids': 1, 'names': 'Andi', 'ages': 15, 'class_ids': 101},\n",
              " {'ids': 2, 'names': 'Budi', 'ages': 16, 'class_ids': 102},\n",
              " {'ids': 3, 'names': 'Cindy', 'ages': 15, 'class_ids': 101}]"
            ]
          },
          "execution_count": 4,
          "metadata": {},
          "output_type": "execute_result"
        }
      ],
      "source": [
        "student_df.to_dict(orient='records')"
      ]
    },
    {
      "cell_type": "code",
      "execution_count": 5,
      "metadata": {},
      "outputs": [
        {
          "data": {
            "text/plain": [
              "{'ids': [1, 2, 3],\n",
              " 'names': ['Andi', 'Budi', 'Cindy'],\n",
              " 'ages': [15, 16, 15],\n",
              " 'class_ids': [101, 102, 101]}"
            ]
          },
          "execution_count": 5,
          "metadata": {},
          "output_type": "execute_result"
        }
      ],
      "source": [
        "student_df.to_dict(orient='list')"
      ]
    },
    {
      "cell_type": "markdown",
      "metadata": {},
      "source": [
        "```\n",
        "\n",
        "\n",
        "\n",
        "\n",
        "```\n",
        "## Kesimpulan"
      ]
    },
    {
      "cell_type": "markdown",
      "metadata": {},
      "source": [
        "jadi baik ditulis dalam bentuk Dict of Lists seperti kode berikut\n",
        "\n",
        "```python\n",
        "student_data = {\n",
        "    \"ids\": [1, 2, 3],\n",
        "    \"names\": [\"Andi\", \"Budi\", \"Cindy\"],\n",
        "    \"ages\": [15, 16, 15],\n",
        "    \"class_ids\": [101, 102, 101]\n",
        "}\n",
        "```\n",
        "\n",
        "maupun dengan List of Dicts\n",
        "```python\n",
        "student_data = [\n",
        "    {\"id\": 1, \"name\": \"Andi\", \"age\": 15, \"classId\": 101},\n",
        "    {\"id\": 2, \"name\": \"Budi\", \"age\": 16, \"classId\": 102},\n",
        "    {\"id\": 3, \"name\": \"Cindy\", \"age\": 15, \"classId\": 101}\n",
        "]\n",
        "```\n",
        "\n",
        "keduanya bisa ditangani dengan baik dengan cara yang sama dengan pandas\n",
        "```python\n",
        "students_df = pd.DataFrame(students_data)\n",
        "```\n",
        "\n",
        "Selain itu pandas juga dapat mengonversi dari Dataframe ke List of Dicts maupun ke Dict of Lists\n",
        "```python\n",
        "student_df.to_Dict(orient='records') # List of Dicts\n",
        "student_df.to_Dict(orient='list') # Dict of Lists\n",
        "```\n"
      ]
    },
    {
      "cell_type": "markdown",
      "metadata": {},
      "source": [
        "```\n",
        "\n",
        "\n",
        "```\n",
        "\n",
        "**referensi lebih lanjut**\n",
        "\n",
        "[https://stackoverflow.com/questions/30522982/list-with-many-dictionaries-vs-dictionary-with-few-lists](https://stackoverflow.com/questions/30522982/list-with-many-dictionaries-vs-dictionary-with-few-lists)"
      ]
    }
  ],
  "metadata": {
    "kernelspec": {
      "display_name": ".venv",
      "language": "python",
      "name": "python3"
    },
    "language_info": {
      "codemirror_mode": {
        "name": "ipython",
        "version": 3
      },
      "file_extension": ".py",
      "mimetype": "text/x-python",
      "name": "python",
      "nbconvert_exporter": "python",
      "pygments_lexer": "ipython3",
      "version": "3.10.6"
    }
  },
  "nbformat": 4,
  "nbformat_minor": 2
}
